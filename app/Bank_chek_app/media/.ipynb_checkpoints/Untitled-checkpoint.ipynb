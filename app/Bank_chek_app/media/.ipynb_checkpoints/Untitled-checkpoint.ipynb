{
 "cells": [
  {
   "cell_type": "code",
   "execution_count": 20,
   "id": "d80343a5",
   "metadata": {},
   "outputs": [],
   "source": [
    "data = 'dataset/'"
   ]
  },
  {
   "cell_type": "code",
   "execution_count": 22,
   "id": "8e6a395a",
   "metadata": {},
   "outputs": [],
   "source": [
    "from PIL import Image\n",
    "import os, sys\n",
    "\n",
    "im_size=100\n",
    "\n",
    "\n",
    "for dirpath, _, filenames in os.walk(data):\n",
    "    for path_image in filenames:\n",
    "        image = os.path.abspath(os.path.join(dirpath, path_image))\n",
    "        with Image.open(image) as img:\n",
    "            img=img.resize((im_size, im_size))\n",
    "            img.save(dirpath+path_image)"
   ]
  },
  {
   "cell_type": "code",
   "execution_count": 23,
   "id": "ea28140d",
   "metadata": {},
   "outputs": [
    {
     "name": "stdout",
     "output_type": "stream",
     "text": [
      "{'62938204595174.jpg': {'width': 100, 'heigth': 100}, '62938204674402.jpg': {'width': 100, 'heigth': 100}, '62938204753630.jpg': {'width': 100, 'heigth': 100}, '62938204832858.jpg': {'width': 100, 'heigth': 100}, '62938204912086.jpg': {'width': 100, 'heigth': 100}, '62938204991315.jpg': {'width': 100, 'heigth': 100}, '62938205070543.jpg': {'width': 100, 'heigth': 100}, '62938205149771.jpg': {'width': 100, 'heigth': 100}, '62938205228999.jpg': {'width': 100, 'heigth': 100}, '62938205308227.jpg': {'width': 100, 'heigth': 100}, '62938205387455.jpg': {'width': 100, 'heigth': 100}, '62938205466684.jpg': {'width': 100, 'heigth': 100}, '62938205545912.jpg': {'width': 100, 'heigth': 100}, '62938220361578.jpg': {'width': 100, 'heigth': 100}, '62938220440806.jpg': {'width': 100, 'heigth': 100}, '62938220520034.jpg': {'width': 100, 'heigth': 100}, '62938220599263.jpg': {'width': 100, 'heigth': 100}, '62938220678491.jpg': {'width': 100, 'heigth': 100}, '62938220757719.jpg': {'width': 100, 'heigth': 100}, '62938220836947.jpg': {'width': 100, 'heigth': 100}, '62938220916175.jpg': {'width': 100, 'heigth': 100}, '62938220995403.jpg': {'width': 100, 'heigth': 100}, '62938221074632.jpg': {'width': 100, 'heigth': 100}, '62938221153860.jpg': {'width': 100, 'heigth': 100}, '62938221233088.jpg': {'width': 100, 'heigth': 100}, '62938221312316.jpg': {'width': 100, 'heigth': 100}, '62938221391544.jpg': {'width': 100, 'heigth': 100}, '62939011058640.jpg': {'width': 100, 'heigth': 100}, '62939011137868.jpg': {'width': 100, 'heigth': 100}, '62939011217096.jpg': {'width': 100, 'heigth': 100}, '62939011296325.jpg': {'width': 100, 'heigth': 100}, '62939011375553.jpg': {'width': 100, 'heigth': 100}, '62939011454781.jpg': {'width': 100, 'heigth': 100}, '62939011534009.jpg': {'width': 100, 'heigth': 100}, '62939011613237.jpg': {'width': 100, 'heigth': 100}, '62939011692465.jpg': {'width': 100, 'heigth': 100}, '62939011771694.jpg': {'width': 100, 'heigth': 100}, '62939011850922.jpg': {'width': 100, 'heigth': 100}, '62939011930150.jpg': {'width': 100, 'heigth': 100}, '62939012009378.jpg': {'width': 100, 'heigth': 100}, '62939012088606.jpg': {'width': 100, 'heigth': 100}, '62939799537313.jpg': {'width': 100, 'heigth': 100}, '62939799616542.jpg': {'width': 100, 'heigth': 100}, '62939799695770.jpg': {'width': 100, 'heigth': 100}, '62939799774998.jpg': {'width': 100, 'heigth': 100}, '62939799854226.jpg': {'width': 100, 'heigth': 100}, '62939799933454.jpg': {'width': 100, 'heigth': 100}, '62939800012682.jpg': {'width': 100, 'heigth': 100}, '62939800091911.jpg': {'width': 100, 'heigth': 100}, '62939800171139.jpg': {'width': 100, 'heigth': 100}, '62939800250367.jpg': {'width': 100, 'heigth': 100}, '62939800329595.jpg': {'width': 100, 'heigth': 100}, '62939800408823.jpg': {'width': 100, 'heigth': 100}, '62939800488051.jpg': {'width': 100, 'heigth': 100}, '62939800567280.jpg': {'width': 100, 'heigth': 100}, '62940568684315.jpg': {'width': 100, 'heigth': 100}, '62940568763543.jpg': {'width': 100, 'heigth': 100}, '62940568842771.jpg': {'width': 100, 'heigth': 100}, '62940568922000.jpg': {'width': 100, 'heigth': 100}, '62940569001228.jpg': {'width': 100, 'heigth': 100}, '62940569080456.jpg': {'width': 100, 'heigth': 100}, '62940569159684.jpg': {'width': 100, 'heigth': 100}, '62940569238912.jpg': {'width': 100, 'heigth': 100}, '8563261452680.jpg': {'width': 100, 'heigth': 100}}\n"
     ]
    }
   ],
   "source": [
    "\n",
    "size_images = dict()\n",
    "\n",
    "for dirpath, _, filenames in os.walk(data):\n",
    "    for path_image in filenames:\n",
    "        image = os.path.abspath(os.path.join(dirpath, path_image))\n",
    "        with Image.open(image) as img:\n",
    "            width, heigth = img.size\n",
    "            size_images[path_image] = {'width': width, 'heigth': heigth}\n",
    "print(size_images)"
   ]
  },
  {
   "cell_type": "code",
   "execution_count": null,
   "id": "e68be4bd",
   "metadata": {},
   "outputs": [],
   "source": []
  }
 ],
 "metadata": {
  "kernelspec": {
   "display_name": "Python 3 (ipykernel)",
   "language": "python",
   "name": "python3"
  },
  "language_info": {
   "codemirror_mode": {
    "name": "ipython",
    "version": 3
   },
   "file_extension": ".py",
   "mimetype": "text/x-python",
   "name": "python",
   "nbconvert_exporter": "python",
   "pygments_lexer": "ipython3",
   "version": "3.9.13"
  }
 },
 "nbformat": 4,
 "nbformat_minor": 5
}
